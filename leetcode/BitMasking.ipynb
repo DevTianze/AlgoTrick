{
 "cells": [
  {
   "cell_type": "code",
   "execution_count": 2,
   "metadata": {},
   "outputs": [],
   "source": [
    "### these modules are necessary\n",
    "import math\n",
    "import itertools\n",
    "import collections\n",
    "import bisect\n",
    "import functools\n",
    "from typing import *"
   ]
  },
  {
   "attachments": {},
   "cell_type": "markdown",
   "metadata": {},
   "source": [
    "# Table of Contents\n",
    "1. [BitMasking](#bitmasking)\n",
    "2. [any() and all()](#any)\n",
    "3. [Prime Number Generator](#prime-number)\n",
    "4. [Greatest Common Divisor](#greatest-common-divisor)\n",
    "5. [Worth Re-visiting Problems from Weekly Contest ](#weekly-contest-worth-noting-problems)\n",
    "6. [Binary Search Variations](#binary-search-variations)\n",
    "7. [Reference in Functions Arguments vs Reference in Function Main Body](#reference-type-in-functions)\n",
    "8. [Return Variations in DFS](#return-variation-in-dfs)\n",
    "9. [Sort Algorithm](#sorting-algorithm)"
   ]
  },
  {
   "attachments": {},
   "cell_type": "markdown",
   "metadata": {},
   "source": [
    "# Bitmasking"
   ]
  },
  {
   "attachments": {},
   "cell_type": "markdown",
   "metadata": {},
   "source": [
    "BFS with Bitmasking is more efficient than Dynamic programming as repetitive computations are avoided by caching the output."
   ]
  },
  {
   "attachments": {},
   "cell_type": "markdown",
   "metadata": {},
   "source": [
    "Three main operations\n",
    "\n",
    "1. Check & check whether one bit is 1 "
   ]
  },
  {
   "cell_type": "code",
   "execution_count": 3,
   "metadata": {},
   "outputs": [
    {
     "data": {
      "text/plain": [
       "True"
      ]
     },
     "execution_count": 3,
     "metadata": {},
     "output_type": "execute_result"
    }
   ],
   "source": [
    "# check #2\n",
    "i = 2\n",
    "cur = 0b110101\n",
    "mask = 1 << i # 0b100\n",
    "mask &= cur # 0b100\n",
    "mask >> i == True\n",
    "# True"
   ]
  },
  {
   "attachments": {},
   "cell_type": "markdown",
   "metadata": {},
   "source": [
    "2. Set - set bit to 1"
   ]
  },
  {
   "cell_type": "code",
   "execution_count": 4,
   "metadata": {},
   "outputs": [
    {
     "data": {
      "text/plain": [
       "'0b100100'"
      ]
     },
     "execution_count": 4,
     "metadata": {},
     "output_type": "execute_result"
    }
   ],
   "source": [
    "i = 2\n",
    "cur = 0b100000\n",
    "mask = 1 << i # 0b100\n",
    "mask |= cur # 0b100100\n",
    "bin(mask)"
   ]
  },
  {
   "attachments": {},
   "cell_type": "markdown",
   "metadata": {},
   "source": [
    "3. Flip ^ set 1 to 0"
   ]
  },
  {
   "cell_type": "code",
   "execution_count": 5,
   "metadata": {},
   "outputs": [
    {
     "data": {
      "text/plain": [
       "'0b1000'"
      ]
     },
     "execution_count": 5,
     "metadata": {},
     "output_type": "execute_result"
    }
   ],
   "source": [
    "#1\n",
    "cur = 0b1001\n",
    "mask = 0b1\n",
    "mask ^= cur #0b1000\n",
    "bin(mask)"
   ]
  },
  {
   "cell_type": "code",
   "execution_count": 6,
   "metadata": {},
   "outputs": [],
   "source": [
    "def coinChange(coins, amount):\n",
    "    step, seen = 0, 1 << amount\n",
    "    print(bin(seen))\n",
    "    while seen & 1 != 1:\n",
    "        cur = seen\n",
    "        for coin in coins:\n",
    "            cur |= seen >> coin\n",
    "        if cur == seen:\n",
    "            return -1\n",
    "        step, seen = step + 1, cur\n",
    "    return step"
   ]
  },
  {
   "cell_type": "code",
   "execution_count": 7,
   "metadata": {},
   "outputs": [
    {
     "name": "stdout",
     "output_type": "stream",
     "text": [
      "0b10000000000\n"
     ]
    },
    {
     "data": {
      "text/plain": [
       "3"
      ]
     },
     "execution_count": 7,
     "metadata": {},
     "output_type": "execute_result"
    }
   ],
   "source": [
    "coinChange([1,2,4], 10)"
   ]
  },
  {
   "cell_type": "code",
   "execution_count": 8,
   "metadata": {},
   "outputs": [],
   "source": [
    "def coinChange(coins, amount):\n",
    "    # define amount 5 as 100000\n",
    "    n, to_collect = 0, 1 << amount\n",
    "\n",
    "    # check to_collected[-1] == 0\n",
    "    while to_collect & 1 == 0:\n",
    "        collected = to_collect\n",
    "        for coin in coins:\n",
    "            # set the place where coin takes place \n",
    "            # if coin 3,\n",
    "            # to_collect >> coin -> 0b100\n",
    "            # collected: 100100\n",
    "            collected |= (to_collect >> coin)\n",
    "        # if equal, means exceeds the amount\n",
    "        if collected == to_collect:\n",
    "            return -1\n",
    "        # every push, the amount of coins increments by 1\n",
    "        n += 1\n",
    "\n",
    "        # Flipping, 缩短至剩余, 不缩位，就一直会从头操作。从bit 几个coin用了一次之后的位置开始\n",
    "        to_collect ^= collected\n",
    "    return n"
   ]
  },
  {
   "cell_type": "code",
   "execution_count": 9,
   "metadata": {},
   "outputs": [],
   "source": [
    "import functools\n",
    "def specialPerm(nums):\n",
    "    n = len(nums)\n",
    "    \n",
    "    functools.cache()\n",
    "    def search(state=0, last=1) :\n",
    "        if state == (1<<n) - 1 :\n",
    "            return 1\n",
    "        \n",
    "        to_ret = 0\n",
    "        for i in range(n) :\n",
    "            if (1<<i) & state :\n",
    "                continue\n",
    "            if nums[i] % last == 0 or last % nums[i] == 0 :\n",
    "                to_ret += search(state | (1<<i), last=nums[i])\n",
    "        return to_ret % (10**9+7)\n",
    "    return search()"
   ]
  },
  {
   "cell_type": "code",
   "execution_count": 10,
   "metadata": {},
   "outputs": [
    {
     "data": {
      "text/plain": [
       "['GenericAlias',\n",
       " 'RLock',\n",
       " 'WRAPPER_ASSIGNMENTS',\n",
       " 'WRAPPER_UPDATES',\n",
       " 'cache',\n",
       " 'cached_property',\n",
       " 'cmp_to_key',\n",
       " 'get_cache_token',\n",
       " 'lru_cache',\n",
       " 'namedtuple',\n",
       " 'partial',\n",
       " 'partialmethod',\n",
       " 'recursive_repr',\n",
       " 'reduce',\n",
       " 'singledispatch',\n",
       " 'singledispatchmethod',\n",
       " 'total_ordering',\n",
       " 'update_wrapper',\n",
       " 'wraps']"
      ]
     },
     "execution_count": 10,
     "metadata": {},
     "output_type": "execute_result"
    }
   ],
   "source": [
    "import functools\n",
    "[x for x in dir(functools) if not x.startswith('_')]"
   ]
  },
  {
   "attachments": {},
   "cell_type": "markdown",
   "metadata": {},
   "source": [
    "# Any"
   ]
  },
  {
   "attachments": {},
   "cell_type": "markdown",
   "metadata": {},
   "source": [
    "**Question 1601: Maximum Number of Achieveable Transfer Requests**"
   ]
  },
  {
   "cell_type": "code",
   "execution_count": 11,
   "metadata": {},
   "outputs": [],
   "source": [
    "# Brute Force\n",
    "def maximumRequests(n, req):\n",
    "    for k in range(len(req), 0, -1):\n",
    "        for c in itertools.combinations(range(len(req)), k):\n",
    "            degree = [0] * n\n",
    "            for i in c:\n",
    "                degree[req[i][0]] -= 1\n",
    "                degree[req[i][i]] += 1\n",
    "            if not any(degree):\n",
    "                return k\n",
    "    return 0"
   ]
  },
  {
   "attachments": {},
   "cell_type": "markdown",
   "metadata": {},
   "source": [
    "Top -> bottom as question is asked for maximum number of transfers\n",
    "\n",
    "**any, all** used for checking array of booleans"
   ]
  },
  {
   "cell_type": "code",
   "execution_count": 12,
   "metadata": {},
   "outputs": [
    {
     "data": {
      "text/plain": [
       "True"
      ]
     },
     "execution_count": 12,
     "metadata": {},
     "output_type": "execute_result"
    }
   ],
   "source": [
    "x = [1,2,3]\n",
    "any(i < 3 for i in x)"
   ]
  },
  {
   "cell_type": "code",
   "execution_count": 13,
   "metadata": {},
   "outputs": [
    {
     "data": {
      "text/plain": [
       "False"
      ]
     },
     "execution_count": 13,
     "metadata": {},
     "output_type": "execute_result"
    }
   ],
   "source": [
    "all(i < 3 for i in x)"
   ]
  },
  {
   "cell_type": "code",
   "execution_count": 14,
   "metadata": {},
   "outputs": [
    {
     "data": {
      "text/plain": [
       "False"
      ]
     },
     "execution_count": 14,
     "metadata": {},
     "output_type": "execute_result"
    }
   ],
   "source": [
    "l  = lambda x : 1<x<4 \n",
    "all(l(i) for i in x)"
   ]
  },
  {
   "cell_type": "code",
   "execution_count": 15,
   "metadata": {},
   "outputs": [
    {
     "data": {
      "text/plain": [
       "6"
      ]
     },
     "execution_count": 15,
     "metadata": {},
     "output_type": "execute_result"
    }
   ],
   "source": [
    "math.perm(3,2)"
   ]
  },
  {
   "cell_type": "code",
   "execution_count": 16,
   "metadata": {},
   "outputs": [
    {
     "name": "stdout",
     "output_type": "stream",
     "text": [
      "(0, 1)\n",
      "(0, 2)\n",
      "(1, 2)\n"
     ]
    }
   ],
   "source": [
    "for i in itertools.combinations(range(0,3), 2):\n",
    "    print(i)"
   ]
  },
  {
   "attachments": {},
   "cell_type": "markdown",
   "metadata": {},
   "source": [
    "# Prime Number\n",
    "https://stackoverflow.com/questions/11619942/print-series-of-prime-numbers-in-python"
   ]
  },
  {
   "cell_type": "code",
   "execution_count": 17,
   "metadata": {},
   "outputs": [],
   "source": [
    "# fastest way\n",
    "def getPrime(n):\n",
    "    ans = []\n",
    "    screen = [True] * (n+1)\n",
    "    for p in range(2, n+1):\n",
    "        if screen[p]:\n",
    "            ans.append(p)\n",
    "            for i in range(p, n+1, p):\n",
    "                screen[i] = False\n",
    "    return ans"
   ]
  },
  {
   "cell_type": "code",
   "execution_count": 18,
   "metadata": {},
   "outputs": [],
   "source": [
    "def getPrimes(n):\n",
    "    res = []\n",
    "    screen = [1] * (n+1)\n",
    "    for i in range(2, n+1):\n",
    "        if screen[i]:\n",
    "            res.append(i)\n",
    "            for p in range(i, n+1, i):\n",
    "                screen[p] = 0\n",
    "    return res"
   ]
  },
  {
   "cell_type": "code",
   "execution_count": 19,
   "metadata": {},
   "outputs": [
    {
     "data": {
      "text/plain": [
       "[2, 3, 5, 7, 11, 13]"
      ]
     },
     "execution_count": 19,
     "metadata": {},
     "output_type": "execute_result"
    }
   ],
   "source": [
    "getPrimes(15)"
   ]
  },
  {
   "attachments": {},
   "cell_type": "markdown",
   "metadata": {},
   "source": [
    "# Greatest Common Divisor"
   ]
  },
  {
   "cell_type": "code",
   "execution_count": 20,
   "metadata": {},
   "outputs": [
    {
     "data": {
      "text/plain": [
       "5"
      ]
     },
     "execution_count": 20,
     "metadata": {},
     "output_type": "execute_result"
    }
   ],
   "source": [
    "gcd = lambda a,b : a if not b else gcd(b, a%b)\n",
    "gcd(15, 10)\n"
   ]
  },
  {
   "attachments": {},
   "cell_type": "markdown",
   "metadata": {},
   "source": [
    "# Good Problems from weekly Contest"
   ]
  },
  {
   "cell_type": "code",
   "execution_count": 21,
   "metadata": {},
   "outputs": [],
   "source": [
    "# Biweekly Contest 107\n",
    "from functools import cache\n",
    "def minimizeConcatenatedLength(words):\n",
    "    n = len(words)\n",
    "    @cache\n",
    "    def dfs(i, l, r):\n",
    "        if i == n:\n",
    "            return 0\n",
    "        s = words[i]\n",
    "        nl = s[0]\n",
    "        nr = s[-1]\n",
    "        return len(s) + min(dfs(i+1, l, nr) - (r==nl), dfs(i+1, nl, r) - (l==nr))\n",
    "    return dfs(1, words[0][0], words[0][-1]) + len(words[0])"
   ]
  },
  {
   "cell_type": "code",
   "execution_count": 22,
   "metadata": {},
   "outputs": [],
   "source": [
    "# https://leetcode.com/contest/weekly-contest-352/problems/continuous-subarrays/\n",
    "from collections import Counter\n",
    "def continuousSubarrays(A):\n",
    "    count = Counter()\n",
    "    ans = i = 0\n",
    "    for j, x in enumerate(A):\n",
    "        count[x] += 1\n",
    "        while len(count) > 3 or max(count) - min(count) > 2:\n",
    "            y = A[i]\n",
    "            count[y] -= 1\n",
    "            if count[y] == 0:\n",
    "                del count[y]\n",
    "            i += 1\n",
    "        ans += j - i +1\n",
    "    return ans"
   ]
  },
  {
   "cell_type": "code",
   "execution_count": 23,
   "metadata": {},
   "outputs": [],
   "source": [
    "class Solution:\n",
    "    def continuousSubarrays(self, nums: List[int]) -> int:\n",
    "        cnt = collections.defaultdict(int)\n",
    "        i = res = 0\n",
    "        for j, num in enumerate(nums):\n",
    "            cnt[num] += 1\n",
    "            while max(cnt) - min(cnt) > 2:\n",
    "                cnt[nums[i]] -= 1\n",
    "                if cnt[nums[i]] == 0:\n",
    "                    del cnt[nums[i]]\n",
    "                i += 1\n",
    "            res += j - i + 1\n",
    "        return res "
   ]
  },
  {
   "cell_type": "code",
   "execution_count": 24,
   "metadata": {},
   "outputs": [],
   "source": [
    "class Solution:\n",
    "    def continuousSubarrays(self, nums: List[int]) -> int:\n",
    "        res = 0\n",
    "        i = j = 0\n",
    "        d = dict()\n",
    "        while j < len(nums):\n",
    "            t = {k: v for k, v in d.items()}\n",
    "            for k, v in t.items():\n",
    "                if abs(k - nums[j]) > 2:\n",
    "                    i = v + 1\n",
    "                    d.pop(k)\n",
    "            d[nums[j]] = j\n",
    "            res += j - i + 1\n",
    "            j += 1\n",
    "        return res"
   ]
  },
  {
   "cell_type": "code",
   "execution_count": 25,
   "metadata": {},
   "outputs": [],
   "source": [
    "class Solution:\n",
    "    def continuousSubarrays(self, nums: List[int]) -> int:\n",
    "        n = len(nums)\n",
    "        @cache\n",
    "        def search(j, x, y):\n",
    "            if j >= n:\n",
    "                return 0\n",
    "            xx = min(x, nums[j])\n",
    "            yy = max(y, nums[j])\n",
    "            if abs(xx - yy) <= 2:\n",
    "                return 1 + search(j + 1, xx, yy)\n",
    "            return 0\n",
    "        ans = 0\n",
    "        for i in range(n):\n",
    "            ans += search(i, nums[i], nums[i])\n",
    "        return ans"
   ]
  },
  {
   "attachments": {},
   "cell_type": "markdown",
   "metadata": {},
   "source": [
    "# Binary Search Variations"
   ]
  },
  {
   "cell_type": "code",
   "execution_count": 26,
   "metadata": {},
   "outputs": [],
   "source": [
    "# base\n",
    "def bs_base(nums, target):\n",
    "    l,r = 0, len(nums)-1\n",
    "    while l <= r:\n",
    "        m = l + (r-l)//2\n",
    "        if nums[m] == target:\n",
    "            return m\n",
    "        elif nums[m] > target:\n",
    "            r -= 1\n",
    "        else:\n",
    "            l += 1\n",
    "    return -1"
   ]
  },
  {
   "cell_type": "code",
   "execution_count": 27,
   "metadata": {},
   "outputs": [
    {
     "data": {
      "text/plain": [
       "-1"
      ]
     },
     "execution_count": 27,
     "metadata": {},
     "output_type": "execute_result"
    }
   ],
   "source": [
    "bs_base([1,2,3,4], -1)"
   ]
  },
  {
   "cell_type": "code",
   "execution_count": 28,
   "metadata": {},
   "outputs": [],
   "source": [
    "# when duplicates appears, return the rightMost target value\n",
    "def bs_rightMost(nums, target):\n",
    "    l,r = 0, len(nums)-1\n",
    "    while l <= r:\n",
    "        m = l + (r-l)//2\n",
    "        if nums[m] == target:\n",
    "            l = m+1\n",
    "        elif nums[m] > target:\n",
    "            r = m-1\n",
    "        else:\n",
    "            l = m+1\n",
    "    if target != nums[r]:\n",
    "        return -1\n",
    "    return r"
   ]
  },
  {
   "cell_type": "code",
   "execution_count": 29,
   "metadata": {},
   "outputs": [
    {
     "data": {
      "text/plain": [
       "6"
      ]
     },
     "execution_count": 29,
     "metadata": {},
     "output_type": "execute_result"
    }
   ],
   "source": [
    "bs_rightMost([1,2,3,3,4,4,4,5], 4)"
   ]
  },
  {
   "cell_type": "code",
   "execution_count": 30,
   "metadata": {},
   "outputs": [],
   "source": [
    "# leftMost duplicate target value\n",
    "def bs_leftMost(nums, target):\n",
    "    l,r = 0, len(nums)-1\n",
    "    while l<=r:\n",
    "        m = l+(r-l)//2\n",
    "        if target == nums[m]:\n",
    "            r = m-1\n",
    "        elif nums[m] > target:\n",
    "            r = m-1\n",
    "        else:\n",
    "            l = m+1\n",
    "    if l == len(nums):\n",
    "        return -1\n",
    "    return l"
   ]
  },
  {
   "cell_type": "code",
   "execution_count": 31,
   "metadata": {},
   "outputs": [
    {
     "data": {
      "text/plain": [
       "-1"
      ]
     },
     "execution_count": 31,
     "metadata": {},
     "output_type": "execute_result"
    }
   ],
   "source": [
    "bs_leftMost([1,2,3,3,3,3,5], 14)\n"
   ]
  },
  {
   "cell_type": "code",
   "execution_count": 32,
   "metadata": {},
   "outputs": [
    {
     "data": {
      "text/plain": [
       "2"
      ]
     },
     "execution_count": 32,
     "metadata": {},
     "output_type": "execute_result"
    }
   ],
   "source": [
    "bisect.bisect_left([1,2,3,3,3,3,5], 3)"
   ]
  },
  {
   "cell_type": "code",
   "execution_count": 33,
   "metadata": {},
   "outputs": [
    {
     "ename": "TypeError",
     "evalue": "bisect_right() missing required argument 'x' (pos 2)",
     "output_type": "error",
     "traceback": [
      "\u001b[1;31m---------------------------------------------------------------------------\u001b[0m",
      "\u001b[1;31mTypeError\u001b[0m                                 Traceback (most recent call last)",
      "\u001b[1;32mc:\\Users\\huati\\Desktop\\AlgoTrick\\leetcode\\BitMasking.ipynb Cell 45\u001b[0m in \u001b[0;36m<cell line: 3>\u001b[1;34m()\u001b[0m\n\u001b[0;32m      <a href='vscode-notebook-cell:/c%3A/Users/huati/Desktop/AlgoTrick/leetcode/BitMasking.ipynb#X62sZmlsZQ%3D%3D?line=0'>1</a>\u001b[0m \u001b[39m# bisect_right == bisect\u001b[39;00m\n\u001b[0;32m      <a href='vscode-notebook-cell:/c%3A/Users/huati/Desktop/AlgoTrick/leetcode/BitMasking.ipynb#X62sZmlsZQ%3D%3D?line=1'>2</a>\u001b[0m bisect\u001b[39m.\u001b[39mbisect_right([\u001b[39m1\u001b[39m,\u001b[39m2\u001b[39m,\u001b[39m3\u001b[39m,\u001b[39m3\u001b[39m,\u001b[39m3\u001b[39m,\u001b[39m3\u001b[39m,\u001b[39m5\u001b[39m], \u001b[39m3\u001b[39m)\n\u001b[1;32m----> <a href='vscode-notebook-cell:/c%3A/Users/huati/Desktop/AlgoTrick/leetcode/BitMasking.ipynb#X62sZmlsZQ%3D%3D?line=2'>3</a>\u001b[0m bisect\u001b[39m.\u001b[39;49mbisect([\u001b[39m1\u001b[39;49m,\u001b[39m1\u001b[39;49m,\u001b[39m2\u001b[39;49m,\u001b[39m3\u001b[39;49m,\u001b[39m3\u001b[39;49m,\u001b[39m3\u001b[39;49m,\u001b[39m3\u001b[39;49m,\u001b[39m5\u001b[39;49m], )\n",
      "\u001b[1;31mTypeError\u001b[0m: bisect_right() missing required argument 'x' (pos 2)"
     ]
    }
   ],
   "source": [
    "# bisect_right == bisect\n",
    "bisect.bisect_right([1,2,3,3,3,3,5], 3)\n",
    "bisect.bisect([1,1,2,3,3,3,3,5], )"
   ]
  },
  {
   "attachments": {},
   "cell_type": "markdown",
   "metadata": {},
   "source": [
    "To get RightMost target, we use bisect.bisect(arr, target)-1\n",
    "\n",
    "To get leftMost target, we ues bisect.bisect_left(arr, target)"
   ]
  },
  {
   "attachments": {},
   "cell_type": "markdown",
   "metadata": {},
   "source": [
    "# Reference Type in Functions"
   ]
  },
  {
   "attachments": {},
   "cell_type": "markdown",
   "metadata": {},
   "source": [
    "consider the following two functions:"
   ]
  },
  {
   "cell_type": "code",
   "execution_count": null,
   "metadata": {},
   "outputs": [],
   "source": [
    "seen = set()\n",
    "graph = {}\n",
    "\n",
    "def dfs(email, temp):\n",
    "    seen.add(email)\n",
    "    # temp.append(email)\n",
    "    for e in graph[email]:\n",
    "        if e not in seen:\n",
    "            dfs(e, temp+[e])\n",
    "    return temp\n",
    "\n",
    "out = dfs('a', [])"
   ]
  },
  {
   "cell_type": "code",
   "execution_count": null,
   "metadata": {},
   "outputs": [],
   "source": [
    "seen = set()\n",
    "graph = {}\n",
    "\n",
    "def dfs(email, temp):\n",
    "    seen.add(email)\n",
    "    temp.append(email)\n",
    "    for e in graph[email]:\n",
    "        if e not in seen:\n",
    "            dfs(e, temp)\n",
    "    return temp\n",
    "\n",
    "out = dfs('a', [])"
   ]
  },
  {
   "attachments": {},
   "cell_type": "markdown",
   "metadata": {},
   "source": [
    "out is empty in example #1\n",
    "\n",
    "In example #1, although 'temp + [e]' is passed in as an argument, it does not perform the operation: \n",
    "\n",
    "temp = temp + [e]\n",
    "\n",
    "Therefore, after its recursive calls' execution, the modified temp in deeper stack is lost since there's no reference of them returned. (even at certain point, part of the answer is achieved, they are not getting recorded correctly)\n",
    "\n",
    "However, this approach might be useful with litte modificiation:"
   ]
  },
  {
   "cell_type": "code",
   "execution_count": null,
   "metadata": {},
   "outputs": [],
   "source": [
    "def subsets(nums):\n",
    "    def dfs(start=0, temp=[], ans=[]):\n",
    "        ans.append(temp[:])\n",
    "        for i in range(start, len(nums)): \n",
    "            dfs(i+1, temp+[nums[i]], ans)\n",
    "        return ans\n",
    "    return dfs()"
   ]
  },
  {
   "attachments": {},
   "cell_type": "markdown",
   "metadata": {},
   "source": [
    "ans, temp are passed in as argument to the function\n",
    "\n",
    "1. temp is for storing the modified of temp at recursive calls\n",
    "2. ans is for storing the all the sucessful trajectories during the recursive process\n",
    "\n",
    "temp[:] creates a shallow copy (snapshot) of the current temp list so that appending it to ans preserves the current state of temp and avoids any unintended modifications.\n",
    "\n",
    "The scope of the temp variable is local to each invocation of the dfs function. So when you create a copy of temp using temp[:], it captures the state of temp within that specific invocation of the function. Subsequent modifications to temp in different recursive calls will not affect the already appended lists in ans.\n",
    "\n",
    "Therefore, in each recursive call, temp is a different from the original temp as list concatenation creates a new *temp*. \n",
    "And since temp is not returned, it has to be recorded by appending its shallow copy - [:] to the ans. If not a shallow copy, what gets appended is a reference/pointer, that points to the same array object.\n",
    "\n",
    "Since ans is used as a reference for storing the copies. Any appendation was made to the original ans.\n"
   ]
  },
  {
   "cell_type": "code",
   "execution_count": null,
   "metadata": {},
   "outputs": [],
   "source": [
    "class Solution(object):\n",
    "    def sortColors(self, nums):\n",
    "        \"\"\"\n",
    "        :type nums: List[int]\n",
    "        :rtype: None Do not return anything, modify nums in-place instead.\n",
    "        \"\"\"\n",
    "        cts = [0, 0, 0]\n",
    "        for num in nums:\n",
    "            cts[num] +=1\n",
    "        nums[:] = [0] * cts[0] + [1] * cts[1] + [2] * cts[2]"
   ]
  },
  {
   "attachments": {},
   "cell_type": "markdown",
   "metadata": {},
   "source": [
    "nums[:] = ... is an in-place assignment using slice notation ([:]). It modifies the existing list referred to by nums by replacing its elements with the elements from the right-hand side expression. This means that the nums list itself remains the same object, but its content is modified.\n",
    "\n",
    "nums = ... creates a new list object and assigns it to the variable nums. It reassigns the variable nums to reference the newly created list, discarding the previous list object. This means that nums now refers to a different list object in memory.\n",
    "\n",
    "In summary, nums[:] = ... modifies the existing list in-place, while nums = ... creates a new list object and assigns it to the variable."
   ]
  },
  {
   "attachments": {},
   "cell_type": "markdown",
   "metadata": {},
   "source": [
    "It does not create a new array object and bound it to the nums, instead, it replaced all the elements inside the nums container"
   ]
  },
  {
   "attachments": {},
   "cell_type": "markdown",
   "metadata": {},
   "source": [
    "# Return Variation in DFS"
   ]
  },
  {
   "attachments": {},
   "cell_type": "markdown",
   "metadata": {},
   "source": [
    "DFS is recursion with a for loop.\n",
    "\n",
    "DFS + Bitmasking + LRUCache is faster than dynamic programming"
   ]
  },
  {
   "cell_type": "code",
   "execution_count": null,
   "metadata": {},
   "outputs": [],
   "source": [
    "# 2746. Decremental String Concatenation\n",
    "from functools import cache\n",
    "def minimizeConcatenatedLength(words):\n",
    "    n = len(words)\n",
    "    @cache\n",
    "    def dfs(i, l, r):\n",
    "        if i == n:\n",
    "            return 0\n",
    "        s = words[i]\n",
    "        nl = s[0]\n",
    "        nr = s[-1]\n",
    "        return len(s) + min(dfs(i+1, l, nr) - (r==nl), dfs(i+1, nl, r) - (l==nr))\n",
    "    return dfs(1, words[0][0], words[0][-1]) + len(words[0])"
   ]
  },
  {
   "cell_type": "code",
   "execution_count": null,
   "metadata": {},
   "outputs": [],
   "source": [
    "# 2741. Special Permutations\n",
    "class Solution:\n",
    "    def specialPerm(self, nums: List[int]) -> int:\n",
    "        n = len(nums)\n",
    "        @cache\n",
    "        def dfs(mask=0, last=1):\n",
    "            if mask == (1 << len(nums)) - 1:\n",
    "                return 1\n",
    "            ans = 0\n",
    "            for i in range(len(nums)):\n",
    "                if not (1 << i) & mask and (nums[i] % last == 0 or last % nums[i] == 0):\n",
    "                    ans += dfs(mask | (1 << i), nums[i])\n",
    "            return ans % (10 ** 9 + 7)\n",
    "        return dfs()"
   ]
  },
  {
   "attachments": {},
   "cell_type": "markdown",
   "metadata": {},
   "source": [
    "# Sorting Algorithm"
   ]
  },
  {
   "attachments": {},
   "cell_type": "markdown",
   "metadata": {},
   "source": [
    "![](https://lamfo-unb.github.io/img/Sorting-algorithms/Complexity.png)"
   ]
  },
  {
   "cell_type": "code",
   "execution_count": 40,
   "metadata": {},
   "outputs": [],
   "source": [
    "# bubble sort\n",
    "# moving the 1st, 2nd, 3rd... largest value to the end in each respective loop\n",
    "def bubbleSort(nums):\n",
    "    n = len(nums)\n",
    "    for i in range(n):\n",
    "        print(nums)\n",
    "        for j in range(0, n-i-1):\n",
    "            if nums[j] > nums[j+1]:\n",
    "                nums[j], nums[j+1] = nums[j+1], nums[j]"
   ]
  },
  {
   "cell_type": "code",
   "execution_count": null,
   "metadata": {},
   "outputs": [],
   "source": [
    "def insertionSort(lst):\n",
    "    for index in range(1, len(lst)):\n",
    "\n",
    "        currentvalue = lst[index]\n",
    "        position = index\n",
    "\n",
    "        while position > 0 and lst[position - 1] > currentvalue:\n",
    "            lst[position] = lst[position - 1]\n",
    "            position = position - 1\n",
    "\n",
    "        lst[position] = currentvalue"
   ]
  },
  {
   "cell_type": "code",
   "execution_count": 65,
   "metadata": {},
   "outputs": [],
   "source": [
    "def selectionSort(nums):\n",
    "    n = len(nums)\n",
    "    for i in range(n):\n",
    "        minimum = i\n",
    "        for j in range(i+1, n):\n",
    "            if nums[j] < nums[minimum]:\n",
    "                minimum = j\n",
    "        nums[minimum], nums[i] = nums[i], nums[minimum]\n",
    "    return nums"
   ]
  },
  {
   "cell_type": "code",
   "execution_count": 69,
   "metadata": {},
   "outputs": [],
   "source": [
    "def quickSort(array):\n",
    "    \"\"\"Sort the array by using quicksort.\"\"\"\n",
    "    less = []\n",
    "    equal = []\n",
    "    greater = []\n",
    "\n",
    "    if len(array) > 1:\n",
    "        pivot = array[0]\n",
    "        for x in array:\n",
    "            if x < pivot:\n",
    "                less.append(x)\n",
    "            elif x == pivot:\n",
    "                equal.append(x)\n",
    "            elif x > pivot:\n",
    "                greater.append(x)\n",
    "        # Don't forget to return something!\n",
    "        return quickSort(less)+equal+quickSort(greater)  # Just use the + operator to join lists\n",
    "    # Note that you want equal ^^^^^ not pivot\n",
    "    else:  # You need to handle the part at the end of the recursion - when you only have one element in your array, just return the array.\n",
    "        return array"
   ]
  },
  {
   "cell_type": "code",
   "execution_count": null,
   "metadata": {},
   "outputs": [],
   "source": [
    "def mergeSort(x):\n",
    "    if len(x) < 20:\n",
    "        return sorted(x)\n",
    "    result = []\n",
    "    mid = int(len(x) / 2)\n",
    "    y = mergeSort(x[:mid])\n",
    "    z = mergeSort(x[mid:])\n",
    "    i = 0\n",
    "    j = 0\n",
    "    while i < len(y) and j < len(z):\n",
    "        if y[i] > z[j]:\n",
    "            result.append(z[j])\n",
    "            j += 1\n",
    "        else:\n",
    "            result.append(y[i])\n",
    "            i += 1\n",
    "    result += y[i:]\n",
    "    result += z[j:]\n",
    "    return result"
   ]
  },
  {
   "attachments": {},
   "cell_type": "markdown",
   "metadata": {},
   "source": [
    "My measurements to sort a random list of 100000 integers are 2.46 seconds for the original version, 2.33 for msort2, 0.60 for msort3 and 0.40 for mergeSort. For reference, sorting all the list with sorted takes 0.03 seconds."
   ]
  },
  {
   "attachments": {},
   "cell_type": "markdown",
   "metadata": {},
   "source": [
    "### mergeSort is pre-order traversal, quickSort is post-order traversal"
   ]
  }
 ],
 "metadata": {
  "kernelspec": {
   "display_name": "Python 3",
   "language": "python",
   "name": "python3"
  },
  "language_info": {
   "codemirror_mode": {
    "name": "ipython",
    "version": 3
   },
   "file_extension": ".py",
   "mimetype": "text/x-python",
   "name": "python",
   "nbconvert_exporter": "python",
   "pygments_lexer": "ipython3",
   "version": "3.9.10"
  },
  "orig_nbformat": 4
 },
 "nbformat": 4,
 "nbformat_minor": 2
}
