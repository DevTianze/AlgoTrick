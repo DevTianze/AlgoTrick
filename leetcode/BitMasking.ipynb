{
 "cells": [
  {
   "cell_type": "code",
   "execution_count": 84,
   "metadata": {},
   "outputs": [],
   "source": [
    "import math\n",
    "import itertools\n",
    "import collections\n",
    "from typing import *"
   ]
  },
  {
   "attachments": {},
   "cell_type": "markdown",
   "metadata": {},
   "source": [
    "# Table of Contents\n",
    "1. [BitMasking](#bitmasking)\n",
    "2. [any and all](#any)\n",
    "3. [Prime Number Generator](#prime-number)\n",
    "4. [Greatest Common Divisor](#greatest-common-divisor)\n",
    "5. [Weekly Contest Worth Noting Problems](#weekly-contest-worth-noting-problems)"
   ]
  },
  {
   "attachments": {},
   "cell_type": "markdown",
   "metadata": {},
   "source": [
    "# Bitmasking"
   ]
  },
  {
   "attachments": {},
   "cell_type": "markdown",
   "metadata": {},
   "source": [
    "BFS with Bitmasking is more efficient than Dynamic programming as repetitive computations are avoided by caching the output."
   ]
  },
  {
   "attachments": {},
   "cell_type": "markdown",
   "metadata": {},
   "source": [
    "Three main operations\n",
    "\n",
    "1. Check & check whether one bit is 1 "
   ]
  },
  {
   "cell_type": "code",
   "execution_count": 1,
   "metadata": {},
   "outputs": [
    {
     "data": {
      "text/plain": [
       "True"
      ]
     },
     "execution_count": 1,
     "metadata": {},
     "output_type": "execute_result"
    }
   ],
   "source": [
    "# check #2\n",
    "i = 2\n",
    "cur = 0b110101\n",
    "mask = 1 << i # 0b100\n",
    "mask &= cur # 0b100\n",
    "mask >> i == True\n",
    "# True"
   ]
  },
  {
   "attachments": {},
   "cell_type": "markdown",
   "metadata": {},
   "source": [
    "2. Set - set bit to 1"
   ]
  },
  {
   "cell_type": "code",
   "execution_count": 3,
   "metadata": {},
   "outputs": [
    {
     "data": {
      "text/plain": [
       "'0b100100'"
      ]
     },
     "execution_count": 3,
     "metadata": {},
     "output_type": "execute_result"
    }
   ],
   "source": [
    "i = 2\n",
    "cur = 0b100000\n",
    "mask = 1 << i # 0b100\n",
    "mask |= cur # 0b100100\n",
    "bin(mask)"
   ]
  },
  {
   "attachments": {},
   "cell_type": "markdown",
   "metadata": {},
   "source": [
    "3. Flip ^ set 1 to 0"
   ]
  },
  {
   "cell_type": "code",
   "execution_count": 5,
   "metadata": {},
   "outputs": [
    {
     "data": {
      "text/plain": [
       "'0b1000'"
      ]
     },
     "execution_count": 5,
     "metadata": {},
     "output_type": "execute_result"
    }
   ],
   "source": [
    "#1\n",
    "cur = 0b1001\n",
    "mask = 0b1\n",
    "mask ^= cur #0b1000\n",
    "bin(mask)"
   ]
  },
  {
   "cell_type": "code",
   "execution_count": 19,
   "metadata": {},
   "outputs": [],
   "source": [
    "def coinChange(coins, amount):\n",
    "    step, seen = 0, 1 << amount\n",
    "    print(bin(seen))\n",
    "    while seen & 1 != 1:\n",
    "        cur = seen\n",
    "        for coin in coins:\n",
    "            cur |= seen >> coin\n",
    "        if cur == seen:\n",
    "            return -1\n",
    "        step, seen = step + 1, cur\n",
    "    return step"
   ]
  },
  {
   "cell_type": "code",
   "execution_count": 20,
   "metadata": {},
   "outputs": [
    {
     "name": "stdout",
     "output_type": "stream",
     "text": [
      "0b10000000000\n",
      "\n",
      "\n",
      "0b11000000000\n",
      "0b11100000000\n",
      "0b11101000000\n",
      "\n",
      "\n",
      "0b11111100000\n",
      "0b11111110000\n",
      "0b11111110100\n",
      "\n",
      "\n",
      "0b11111111110\n",
      "0b11111111111\n",
      "0b11111111111\n"
     ]
    },
    {
     "data": {
      "text/plain": [
       "3"
      ]
     },
     "execution_count": 20,
     "metadata": {},
     "output_type": "execute_result"
    }
   ],
   "source": [
    "coinChange([1,2,4], 10)"
   ]
  },
  {
   "cell_type": "code",
   "execution_count": null,
   "metadata": {},
   "outputs": [],
   "source": [
    "def coinChange(coins, amount):\n",
    "    # define amount 5 as 100000\n",
    "    n, to_collect = 0, 1 << amount\n",
    "\n",
    "    # check to_collected[-1] == 0\n",
    "    while to_collect & 1 == 0:\n",
    "        collected = to_collect\n",
    "        for coin in coins:\n",
    "            # set the place where coin takes place \n",
    "            # if coin 3,\n",
    "            # to_collect >> coin -> 0b100\n",
    "            # collected: 100100\n",
    "            collected |= (to_collect >> coin)\n",
    "        # if equal, means exceeds the amount\n",
    "        if collected == to_collect:\n",
    "            return -1\n",
    "        # every push, the amount of coins increments by 1\n",
    "        n += 1\n",
    "\n",
    "        # Flipping, 缩短至剩余, 不缩位，就一直会从头操作。从bit 几个coin用了一次之后的位置开始\n",
    "        to_collect ^= collected\n",
    "    return n"
   ]
  },
  {
   "cell_type": "code",
   "execution_count": 21,
   "metadata": {},
   "outputs": [],
   "source": [
    "import functools\n",
    "def specialPerm(nums):\n",
    "    n = len(nums)\n",
    "    \n",
    "    functools.cache()\n",
    "    def search(state=0, last=1) :\n",
    "        if state == (1<<n) - 1 :\n",
    "            return 1\n",
    "        \n",
    "        to_ret = 0\n",
    "        for i in range(n) :\n",
    "            if (1<<i) & state :\n",
    "                continue\n",
    "            if nums[i] % last == 0 or last % nums[i] == 0 :\n",
    "                to_ret += search(state | (1<<i), last=nums[i])\n",
    "        return to_ret % (10**9+7)\n",
    "    return search()"
   ]
  },
  {
   "cell_type": "code",
   "execution_count": 22,
   "metadata": {},
   "outputs": [
    {
     "data": {
      "text/plain": [
       "['GenericAlias',\n",
       " 'RLock',\n",
       " 'WRAPPER_ASSIGNMENTS',\n",
       " 'WRAPPER_UPDATES',\n",
       " 'cache',\n",
       " 'cached_property',\n",
       " 'cmp_to_key',\n",
       " 'get_cache_token',\n",
       " 'lru_cache',\n",
       " 'namedtuple',\n",
       " 'partial',\n",
       " 'partialmethod',\n",
       " 'recursive_repr',\n",
       " 'reduce',\n",
       " 'singledispatch',\n",
       " 'singledispatchmethod',\n",
       " 'total_ordering',\n",
       " 'update_wrapper',\n",
       " 'wraps']"
      ]
     },
     "execution_count": 22,
     "metadata": {},
     "output_type": "execute_result"
    }
   ],
   "source": [
    "import functools\n",
    "[x for x in dir(functools) if not x.startswith('_')]"
   ]
  },
  {
   "attachments": {},
   "cell_type": "markdown",
   "metadata": {},
   "source": [
    "# Any"
   ]
  },
  {
   "attachments": {},
   "cell_type": "markdown",
   "metadata": {},
   "source": [
    "**Question 1601: Maximum Number of Achieveable Transfer Requests**"
   ]
  },
  {
   "cell_type": "code",
   "execution_count": null,
   "metadata": {},
   "outputs": [],
   "source": [
    "# Brute Force\n",
    "def maximumRequests(n, req):\n",
    "    for k in range(len(req), 0, -1):\n",
    "        for c in itertools.combinations(range(len(req)), k):\n",
    "            degree = [0] * n\n",
    "            for i in c:\n",
    "                degree[req[i][0]] -= 1\n",
    "                degree[req[i][i]] += 1\n",
    "            if not any(degree):\n",
    "                return k\n",
    "    return 0"
   ]
  },
  {
   "attachments": {},
   "cell_type": "markdown",
   "metadata": {},
   "source": [
    "Top -> bottom as question is asked for maximum number of transfers\n",
    "\n",
    "**any, all** used for checking array of booleans"
   ]
  },
  {
   "cell_type": "code",
   "execution_count": 1,
   "metadata": {},
   "outputs": [
    {
     "data": {
      "text/plain": [
       "True"
      ]
     },
     "execution_count": 1,
     "metadata": {},
     "output_type": "execute_result"
    }
   ],
   "source": [
    "x = [1,2,3]\n",
    "any(i < 3 for i in x)"
   ]
  },
  {
   "cell_type": "code",
   "execution_count": 2,
   "metadata": {},
   "outputs": [
    {
     "data": {
      "text/plain": [
       "False"
      ]
     },
     "execution_count": 2,
     "metadata": {},
     "output_type": "execute_result"
    }
   ],
   "source": [
    "all(i < 3 for i in x)"
   ]
  },
  {
   "cell_type": "code",
   "execution_count": 5,
   "metadata": {},
   "outputs": [
    {
     "data": {
      "text/plain": [
       "False"
      ]
     },
     "execution_count": 5,
     "metadata": {},
     "output_type": "execute_result"
    }
   ],
   "source": [
    "l  = lambda x : 1<x<4 \n",
    "all(l(i) for i in x)"
   ]
  },
  {
   "cell_type": "code",
   "execution_count": 12,
   "metadata": {},
   "outputs": [
    {
     "data": {
      "text/plain": [
       "6"
      ]
     },
     "execution_count": 12,
     "metadata": {},
     "output_type": "execute_result"
    }
   ],
   "source": [
    "math.perm(3,2)"
   ]
  },
  {
   "cell_type": "code",
   "execution_count": 13,
   "metadata": {},
   "outputs": [
    {
     "name": "stdout",
     "output_type": "stream",
     "text": [
      "(0, 1)\n",
      "(0, 2)\n",
      "(1, 2)\n"
     ]
    }
   ],
   "source": [
    "for i in itertools.combinations(range(0,3), 2):\n",
    "    print(i)"
   ]
  },
  {
   "attachments": {},
   "cell_type": "markdown",
   "metadata": {},
   "source": [
    "# Prime Number\n",
    "https://stackoverflow.com/questions/11619942/print-series-of-prime-numbers-in-python"
   ]
  },
  {
   "cell_type": "code",
   "execution_count": 20,
   "metadata": {},
   "outputs": [],
   "source": [
    "# fastest way\n",
    "def getPrime(n):\n",
    "    ans = []\n",
    "    screen = [True] * (n+1)\n",
    "    for p in range(2, n+1):\n",
    "        if screen[p]:\n",
    "            ans.append(p)\n",
    "            for i in range(p, n+1, p):\n",
    "                screen[i] = False\n",
    "    return ans"
   ]
  },
  {
   "cell_type": "code",
   "execution_count": 69,
   "metadata": {},
   "outputs": [],
   "source": [
    "def getPrimes(n):\n",
    "    res = []\n",
    "    screen = [1] * (n+1)\n",
    "    for i in range(2, n+1):\n",
    "        if screen[i]:\n",
    "            res.append(i)\n",
    "            for p in range(i, n+1, i):\n",
    "                screen[p] = 0\n",
    "    return res"
   ]
  },
  {
   "cell_type": "code",
   "execution_count": 70,
   "metadata": {},
   "outputs": [
    {
     "data": {
      "text/plain": [
       "[2, 3, 5, 7, 11, 13]"
      ]
     },
     "execution_count": 70,
     "metadata": {},
     "output_type": "execute_result"
    }
   ],
   "source": [
    "getPrimes(15)"
   ]
  },
  {
   "attachments": {},
   "cell_type": "markdown",
   "metadata": {},
   "source": [
    "# Greatest Common Divisor"
   ]
  },
  {
   "cell_type": "code",
   "execution_count": 85,
   "metadata": {},
   "outputs": [
    {
     "data": {
      "text/plain": [
       "5"
      ]
     },
     "execution_count": 85,
     "metadata": {},
     "output_type": "execute_result"
    }
   ],
   "source": [
    "gcd = lambda a,b : a if not b else gcd(b, a%b)\n",
    "gcd(15, 10)\n"
   ]
  },
  {
   "attachments": {},
   "cell_type": "markdown",
   "metadata": {},
   "source": [
    "# Good Problems from weekly Contest"
   ]
  },
  {
   "cell_type": "code",
   "execution_count": 71,
   "metadata": {},
   "outputs": [],
   "source": [
    "# Biweekly Contest 107\n",
    "from functools import cache\n",
    "def minimizeConcatenatedLength(words):\n",
    "    n = len(words)\n",
    "    @cache\n",
    "    def dfs(i, l, r):\n",
    "        if i == n:\n",
    "            return 0\n",
    "        s = words[i]\n",
    "        nl = s[0]\n",
    "        nr = s[-1]\n",
    "        return len(s) + min(dfs(i+1, l, nr) - (r==nl), dfs(i+1, nl, r) - (l==nr))\n",
    "    return dfs(1, words[0][0], words[0][-1]) + len(words[0])"
   ]
  },
  {
   "cell_type": "code",
   "execution_count": null,
   "metadata": {},
   "outputs": [],
   "source": [
    "# https://leetcode.com/contest/weekly-contest-352/problems/continuous-subarrays/\n",
    "from collections import Counter\n",
    "def continuousSubarrays(A):\n",
    "    count = Counter()\n",
    "    ans = i = 0\n",
    "    for j, x in enumerate(A):\n",
    "        count[x] += 1\n",
    "        while len(count) > 3 or max(count) - min(count) > 2:\n",
    "            y = A[i]\n",
    "            count[y] -= 1\n",
    "            if count[y] == 0:\n",
    "                del count[y]\n",
    "            i += 1\n",
    "        ans += j - i +1\n",
    "    return ans"
   ]
  },
  {
   "cell_type": "code",
   "execution_count": null,
   "metadata": {},
   "outputs": [],
   "source": [
    "class Solution:\n",
    "    def continuousSubarrays(self, nums: List[int]) -> int:\n",
    "        cnt = collections.defaultdict(int)\n",
    "        i = res = 0\n",
    "        for j, num in enumerate(nums):\n",
    "            cnt[num] += 1\n",
    "            while max(cnt) - min(cnt) > 2:\n",
    "                cnt[nums[i]] -= 1\n",
    "                if cnt[nums[i]] == 0:\n",
    "                    del cnt[nums[i]]\n",
    "                i += 1\n",
    "            res += j - i + 1\n",
    "        return res "
   ]
  },
  {
   "cell_type": "code",
   "execution_count": null,
   "metadata": {},
   "outputs": [],
   "source": [
    "class Solution:\n",
    "    def continuousSubarrays(self, nums: List[int]) -> int:\n",
    "        res = 0\n",
    "        i = j = 0\n",
    "        d = dict()\n",
    "        while j < len(nums):\n",
    "            t = {k: v for k, v in d.items()}\n",
    "            for k, v in t.items():\n",
    "                if abs(k - nums[j]) > 2:\n",
    "                    i = v + 1\n",
    "                    d.pop(k)\n",
    "            d[nums[j]] = j\n",
    "            res += j - i + 1\n",
    "            j += 1\n",
    "        return res"
   ]
  },
  {
   "cell_type": "code",
   "execution_count": null,
   "metadata": {},
   "outputs": [],
   "source": [
    "class Solution:\n",
    "    def continuousSubarrays(self, nums: List[int]) -> int:\n",
    "        n = len(nums)\n",
    "        @cache\n",
    "        def search(j, x, y):\n",
    "            if j >= n:\n",
    "                return 0\n",
    "            xx = min(x, nums[j])\n",
    "            yy = max(y, nums[j])\n",
    "            if abs(xx - yy) <= 2:\n",
    "                return 1 + search(j + 1, xx, yy)\n",
    "            return 0\n",
    "        ans = 0\n",
    "        for i in range(n):\n",
    "            ans += search(i, nums[i], nums[i])\n",
    "        return ans"
   ]
  }
 ],
 "metadata": {
  "kernelspec": {
   "display_name": "Python 3",
   "language": "python",
   "name": "python3"
  },
  "language_info": {
   "codemirror_mode": {
    "name": "ipython",
    "version": 3
   },
   "file_extension": ".py",
   "mimetype": "text/x-python",
   "name": "python",
   "nbconvert_exporter": "python",
   "pygments_lexer": "ipython3",
   "version": "3.11.3"
  },
  "orig_nbformat": 4
 },
 "nbformat": 4,
 "nbformat_minor": 2
}
