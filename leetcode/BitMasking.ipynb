{
 "cells": [
  {
   "attachments": {},
   "cell_type": "markdown",
   "metadata": {},
   "source": [
    "# Bitmasking"
   ]
  },
  {
   "attachments": {},
   "cell_type": "markdown",
   "metadata": {},
   "source": [
    "BFS with Bitmasking is more efficient than Dynamic programming as repetitive computations are avoided by caching the output."
   ]
  },
  {
   "attachments": {},
   "cell_type": "markdown",
   "metadata": {},
   "source": [
    "Three main operations\n",
    "\n",
    "1. Check & check whether one bit is 1 "
   ]
  },
  {
   "cell_type": "code",
   "execution_count": 1,
   "metadata": {},
   "outputs": [
    {
     "data": {
      "text/plain": [
       "True"
      ]
     },
     "execution_count": 1,
     "metadata": {},
     "output_type": "execute_result"
    }
   ],
   "source": [
    "# check #2\n",
    "i = 2\n",
    "cur = 0b110101\n",
    "mask = 1 << i # 0b100\n",
    "mask &= cur # 0b100\n",
    "mask >> i == True\n",
    "# True"
   ]
  },
  {
   "attachments": {},
   "cell_type": "markdown",
   "metadata": {},
   "source": [
    "2. Set - set bit to 1"
   ]
  },
  {
   "cell_type": "code",
   "execution_count": 3,
   "metadata": {},
   "outputs": [
    {
     "data": {
      "text/plain": [
       "'0b100100'"
      ]
     },
     "execution_count": 3,
     "metadata": {},
     "output_type": "execute_result"
    }
   ],
   "source": [
    "i = 2\n",
    "cur = 0b100000\n",
    "mask = 1 << i # 0b100\n",
    "mask |= cur # 0b100100\n",
    "bin(mask)"
   ]
  },
  {
   "attachments": {},
   "cell_type": "markdown",
   "metadata": {},
   "source": [
    "3. Flip ^ set 1 to 0"
   ]
  },
  {
   "cell_type": "code",
   "execution_count": 5,
   "metadata": {},
   "outputs": [
    {
     "data": {
      "text/plain": [
       "'0b1000'"
      ]
     },
     "execution_count": 5,
     "metadata": {},
     "output_type": "execute_result"
    }
   ],
   "source": [
    "#1\n",
    "cur = 0b1001\n",
    "mask = 0b1\n",
    "mask ^= cur #0b1000\n",
    "bin(mask)"
   ]
  },
  {
   "cell_type": "code",
   "execution_count": 19,
   "metadata": {},
   "outputs": [],
   "source": [
    "def coinChange(coins, amount):\n",
    "    step, seen = 0, 1 << amount\n",
    "    print(bin(seen))\n",
    "    while seen & 1 != 1:\n",
    "        cur = seen\n",
    "        for coin in coins:\n",
    "            cur |= seen >> coin\n",
    "        if cur == seen:\n",
    "            return -1\n",
    "        step, seen = step + 1, cur\n",
    "    return step"
   ]
  },
  {
   "cell_type": "code",
   "execution_count": 20,
   "metadata": {},
   "outputs": [
    {
     "name": "stdout",
     "output_type": "stream",
     "text": [
      "0b10000000000\n",
      "\n",
      "\n",
      "0b11000000000\n",
      "0b11100000000\n",
      "0b11101000000\n",
      "\n",
      "\n",
      "0b11111100000\n",
      "0b11111110000\n",
      "0b11111110100\n",
      "\n",
      "\n",
      "0b11111111110\n",
      "0b11111111111\n",
      "0b11111111111\n"
     ]
    },
    {
     "data": {
      "text/plain": [
       "3"
      ]
     },
     "execution_count": 20,
     "metadata": {},
     "output_type": "execute_result"
    }
   ],
   "source": [
    "coinChange([1,2,4], 10)"
   ]
  },
  {
   "cell_type": "code",
   "execution_count": null,
   "metadata": {},
   "outputs": [],
   "source": [
    "def coinChange(coins, amount):\n",
    "    # define amount 5 as 100000\n",
    "    n, to_collect = 0, 1 << amount\n",
    "\n",
    "    # check to_collected[-1] == 0\n",
    "    while to_collect & 1 == 0:\n",
    "        collected = to_collect\n",
    "        for coin in coins:\n",
    "            # set the place where coin takes place \n",
    "            # if coin 3,\n",
    "            # to_collect >> coin -> 0b100\n",
    "            # collected: 100100\n",
    "            collected |= (to_collect >> coin)\n",
    "        # if equal, means exceeds the amount\n",
    "        if collected == to_collect:\n",
    "            return -1\n",
    "        # every push, the amount of coins increments by 1\n",
    "        n += 1\n",
    "\n",
    "        # Flipping, 缩短至剩余, 不缩位，就一直会从头操作。从bit 几个coin用了一次之后的位置开始\n",
    "        to_collect ^= collected\n",
    "    return n"
   ]
  },
  {
   "cell_type": "code",
   "execution_count": 21,
   "metadata": {},
   "outputs": [],
   "source": [
    "import functools\n",
    "def specialPerm(nums):\n",
    "    n = len(nums)\n",
    "    \n",
    "    functools.cache()\n",
    "    def search(state=0, last=1) :\n",
    "        if state == (1<<n) - 1 :\n",
    "            return 1\n",
    "        \n",
    "        to_ret = 0\n",
    "        for i in range(n) :\n",
    "            if (1<<i) & state :\n",
    "                continue\n",
    "            if nums[i] % last == 0 or last % nums[i] == 0 :\n",
    "                to_ret += search(state | (1<<i), last=nums[i])\n",
    "        return to_ret % (10**9+7)\n",
    "    return search()"
   ]
  },
  {
   "cell_type": "code",
   "execution_count": 22,
   "metadata": {},
   "outputs": [
    {
     "data": {
      "text/plain": [
       "['GenericAlias',\n",
       " 'RLock',\n",
       " 'WRAPPER_ASSIGNMENTS',\n",
       " 'WRAPPER_UPDATES',\n",
       " 'cache',\n",
       " 'cached_property',\n",
       " 'cmp_to_key',\n",
       " 'get_cache_token',\n",
       " 'lru_cache',\n",
       " 'namedtuple',\n",
       " 'partial',\n",
       " 'partialmethod',\n",
       " 'recursive_repr',\n",
       " 'reduce',\n",
       " 'singledispatch',\n",
       " 'singledispatchmethod',\n",
       " 'total_ordering',\n",
       " 'update_wrapper',\n",
       " 'wraps']"
      ]
     },
     "execution_count": 22,
     "metadata": {},
     "output_type": "execute_result"
    }
   ],
   "source": [
    "import functools\n",
    "[x for x in dir(functools) if not x.startswith('_')]"
   ]
  }
 ],
 "metadata": {
  "kernelspec": {
   "display_name": "Python 3",
   "language": "python",
   "name": "python3"
  },
  "language_info": {
   "codemirror_mode": {
    "name": "ipython",
    "version": 3
   },
   "file_extension": ".py",
   "mimetype": "text/x-python",
   "name": "python",
   "nbconvert_exporter": "python",
   "pygments_lexer": "ipython3",
   "version": "3.10.6"
  },
  "orig_nbformat": 4
 },
 "nbformat": 4,
 "nbformat_minor": 2
}
